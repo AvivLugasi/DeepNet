{
 "cells": [
  {
   "cell_type": "code",
   "execution_count": null,
   "metadata": {
    "collapsed": true
   },
   "outputs": [],
   "source": [
    "import cupy as cp\n",
    "import pandas as pd\n",
    "df = pd.read_csv('Datasets/Datasets/HeartDiseasePredictions/heart-disease.csv')\n",
    "\n",
    "# Convert the DataFrame to a NumPy ndarray (excluding non-numeric columns if necessary)\n",
    "numpy_array = df.select_dtypes(include=[float, int]).values\n",
    "\n",
    "# Convert the NumPy ndarray to a CuPy ndarray\n",
    "cupy_array = cp.asarray(numpy_array)\n",
    "\n",
    "# Print the CuPy array to confirm\n",
    "print(cupy_array)\n"
   ]
  },
  {
   "cell_type": "code",
   "execution_count": null,
   "outputs": [],
   "source": [],
   "metadata": {
    "collapsed": false,
    "pycharm": {
     "name": "#%%\n"
    }
   }
  }
 ],
 "metadata": {
  "kernelspec": {
   "display_name": "Python 3",
   "language": "python",
   "name": "python3"
  },
  "language_info": {
   "codemirror_mode": {
    "name": "ipython",
    "version": 2
   },
   "file_extension": ".py",
   "mimetype": "text/x-python",
   "name": "python",
   "nbconvert_exporter": "python",
   "pygments_lexer": "ipython2",
   "version": "2.7.6"
  }
 },
 "nbformat": 4,
 "nbformat_minor": 0
}